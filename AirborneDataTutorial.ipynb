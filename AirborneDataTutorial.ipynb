{
 "cells": [
  {
   "cell_type": "code",
   "execution_count": null,
   "id": "d0fcd8c4-9baa-4669-aac5-13aaf99d4bef",
   "metadata": {},
   "outputs": [],
   "source": [
    "# Getting started with airborne data from the NASA ASIA-AQ field campaign\n",
    "# Author: Katie Travis (katherine.travis@nasa.gov)\n",
    "# Created: 4/12/2024\n",
    "# Updates:\n"
   ]
  },
  {
   "cell_type": "code",
   "execution_count": 1,
   "id": "4c20de0a-6a45-4ad5-ac91-fa4b54cf9cc7",
   "metadata": {},
   "outputs": [],
   "source": [
    "# Christoph Knote made a nice reader for data in ICARTT format. \n",
    "# ICARTT files are csv files but with specific requirements for NASA data. The header of an ICARTT file has information\n",
    "# including the PI, instrument, contact information, data usage instructions etc.  Open an ICARTT file in TextEdit or similar\n",
    "# application and read the header before using the data.\n",
    "# \n",
    "import icartt"
   ]
  },
  {
   "cell_type": "code",
   "execution_count": null,
   "id": "f0190332-77d9-4b53-9c6f-5b4c8c3e793b",
   "metadata": {},
   "outputs": [],
   "source": []
  }
 ],
 "metadata": {
  "kernelspec": {
   "display_name": "Python 3 (ipykernel)",
   "language": "python",
   "name": "python3"
  },
  "language_info": {
   "codemirror_mode": {
    "name": "ipython",
    "version": 3
   },
   "file_extension": ".py",
   "mimetype": "text/x-python",
   "name": "python",
   "nbconvert_exporter": "python",
   "pygments_lexer": "ipython3",
   "version": "3.10.14"
  }
 },
 "nbformat": 4,
 "nbformat_minor": 5
}
